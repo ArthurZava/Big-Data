{
 "cells": [
  {
   "cell_type": "markdown",
   "id": "GEqQaHzsZ_bA",
   "metadata": {
    "id": "GEqQaHzsZ_bA"
   },
   "source": [
    "# Проект: Предсказание стоимости жилья\n",
    "\n",
    "В проекте нам нужно обучить модель линейной регрессии на данных о жилье в Калифорнии в 1990 году. На основе данных нужно предсказать медианную стоимость дома в жилом массиве. Обучить модель и сделать предсказания на тестовой выборке. Для оценки качества модели используем метрики RMSE, MAE и R2."
   ]
  },
  {
   "cell_type": "markdown",
   "id": "0e53c1db-ebd7-44e6-b5cc-d3575b96409e",
   "metadata": {},
   "source": [
    "### **Цель работы**\n",
    "\n",
    "Целью проекта является построение моделей машинного обучения в среде **Apache Spark** для предсказания медианной стоимости жилья в Калифорнии на данных переписи 1990 года. Используется библиотека **Spark MLlib**, которая позволяет обрабатывать данные распределённо и строить ML-пайплайны.\n",
    "\n",
    "---\n",
    "\n",
    "### **План работы**\n",
    "\n",
    "1. **Подготовка данных**\n",
    "\n",
    "   * Загрузка датасета `housing.csv` с помощью `spark.read.csv()`.\n",
    "   * Определение типов данных: числовые признаки как `double`, категориальный `ocean_proximity` как `string`.\n",
    "   * Анализ пропусков: выявлено 207 пропусков в `total_bedrooms`.\n",
    "   * Пропуски заполнены средним значением через `Imputer`.\n",
    "\n",
    "2. **Формирование выборок**\n",
    "\n",
    "   * Разделение датасета на обучающую и тестовую выборки (80/20).\n",
    "   * Все трансформации (импьютация, кодирование категориальных признаков) обучаются только на train.\n",
    "\n",
    "3. **Предобработка признаков**\n",
    "\n",
    "   * Числовые признаки объеденим через `VectorAssembler`.\n",
    "   * Категориальный признак `ocean_proximity` преобразуем через `StringIndexer` → `OneHotEncoder`.\n",
    "   * Все признаки соберём в общий вектор `features`.\n",
    "\n",
    "4. **Моделирование**\n",
    "\n",
    "   * Построим две модели линейной регрессии (ридж-регрессия, `LinearRegression` с `regParam=0.1`, `elasticNetParam=0.0`):\n",
    "\n",
    "     * **Модель A** — только числовые признаки.\n",
    "     * **Модель B** — числовые + one-hot кодированный `ocean_proximity`.\n",
    "\n",
    "5. **Оценка качества**\n",
    "\n",
    "   * Для оценки используем метрики:\n",
    "\n",
    "     * RMSE (среднеквадратичная ошибка),\n",
    "     * MAE (средняя абсолютная ошибка),\n",
    "     * R² (коэффициент детерминации)."
   ]
  },
  {
   "cell_type": "markdown",
   "id": "53871372",
   "metadata": {
    "id": "53871372"
   },
   "source": [
    "## Подготовка данных"
   ]
  },
  {
   "cell_type": "code",
   "execution_count": 1,
   "id": "a27fa31b-8560-48b8-b546-31cc43e63ccd",
   "metadata": {},
   "outputs": [
    {
     "name": "stdout",
     "output_type": "stream",
     "text": [
      "Requirement already satisfied: pyspark in /Library/Frameworks/Python.framework/Versions/3.12/lib/python3.12/site-packages (4.0.1)\n",
      "Requirement already satisfied: py4j==0.10.9.9 in /Library/Frameworks/Python.framework/Versions/3.12/lib/python3.12/site-packages (from pyspark) (0.10.9.9)\n"
     ]
    }
   ],
   "source": [
    "!pip install pyspark"
   ]
  },
  {
   "cell_type": "code",
   "execution_count": 2,
   "id": "4fcbeb1b",
   "metadata": {},
   "outputs": [],
   "source": [
    "from pyspark.sql import SparkSession\n",
    "import pandas as pd\n",
    "from pyspark.sql import functions as F, types as T\n",
    "from pyspark.ml import Pipeline\n",
    "from pyspark.ml.feature import Imputer, StringIndexer, OneHotEncoder, VectorAssembler\n",
    "from pyspark.ml.regression import LinearRegression\n",
    "from pyspark.ml.evaluation import RegressionEvaluator"
   ]
  },
  {
   "cell_type": "code",
   "execution_count": 3,
   "id": "cb49b022",
   "metadata": {},
   "outputs": [
    {
     "name": "stderr",
     "output_type": "stream",
     "text": [
      "WARNING: Using incubator modules: jdk.incubator.vector\n",
      "Using Spark's default log4j profile: org/apache/spark/log4j2-defaults.properties\n",
      "25/09/15 16:45:26 WARN Utils: Your hostname, MacBook-Pro-Artur.local, resolves to a loopback address: 127.0.0.1; using 192.168.1.87 instead (on interface en10)\n",
      "25/09/15 16:45:26 WARN Utils: Set SPARK_LOCAL_IP if you need to bind to another address\n",
      "Using Spark's default log4j profile: org/apache/spark/log4j2-defaults.properties\n",
      "Setting default log level to \"WARN\".\n",
      "To adjust logging level use sc.setLogLevel(newLevel). For SparkR, use setLogLevel(newLevel).\n",
      "25/09/15 16:45:27 WARN NativeCodeLoader: Unable to load native-hadoop library for your platform... using builtin-java classes where applicable\n"
     ]
    }
   ],
   "source": [
    "# Создание локальной Spark-сессии\n",
    "spark = SparkSession.builder \\\n",
    "    .master(\"local\") \\\n",
    "    .appName(\"California Housing Linear Regression\") \\\n",
    "    .getOrCreate()"
   ]
  },
  {
   "cell_type": "code",
   "execution_count": 4,
   "id": "fc3be250",
   "metadata": {},
   "outputs": [
    {
     "name": "stdout",
     "output_type": "stream",
     "text": [
      "root\n",
      " |-- longitude: double (nullable = true)\n",
      " |-- latitude: double (nullable = true)\n",
      " |-- housing_median_age: double (nullable = true)\n",
      " |-- total_rooms: double (nullable = true)\n",
      " |-- total_bedrooms: double (nullable = true)\n",
      " |-- population: double (nullable = true)\n",
      " |-- households: double (nullable = true)\n",
      " |-- median_income: double (nullable = true)\n",
      " |-- median_house_value: double (nullable = true)\n",
      " |-- ocean_proximity: string (nullable = true)\n",
      "\n"
     ]
    }
   ],
   "source": [
    "df = spark.read.csv(\"~/Downloads/housing.csv\", header=True, inferSchema=True)\n",
    "\n",
    "df.printSchema()"
   ]
  },
  {
   "cell_type": "code",
   "execution_count": 5,
   "id": "cd9b7b10",
   "metadata": {},
   "outputs": [
    {
     "data": {
      "text/html": [
       "<div>\n",
       "<style scoped>\n",
       "    .dataframe tbody tr th:only-of-type {\n",
       "        vertical-align: middle;\n",
       "    }\n",
       "\n",
       "    .dataframe tbody tr th {\n",
       "        vertical-align: top;\n",
       "    }\n",
       "\n",
       "    .dataframe thead th {\n",
       "        text-align: right;\n",
       "    }\n",
       "</style>\n",
       "<table border=\"1\" class=\"dataframe\">\n",
       "  <thead>\n",
       "    <tr style=\"text-align: right;\">\n",
       "      <th></th>\n",
       "      <th>column</th>\n",
       "      <th>type</th>\n",
       "    </tr>\n",
       "  </thead>\n",
       "  <tbody>\n",
       "    <tr>\n",
       "      <th>0</th>\n",
       "      <td>longitude</td>\n",
       "      <td>double</td>\n",
       "    </tr>\n",
       "    <tr>\n",
       "      <th>1</th>\n",
       "      <td>latitude</td>\n",
       "      <td>double</td>\n",
       "    </tr>\n",
       "    <tr>\n",
       "      <th>2</th>\n",
       "      <td>housing_median_age</td>\n",
       "      <td>double</td>\n",
       "    </tr>\n",
       "    <tr>\n",
       "      <th>3</th>\n",
       "      <td>total_rooms</td>\n",
       "      <td>double</td>\n",
       "    </tr>\n",
       "    <tr>\n",
       "      <th>4</th>\n",
       "      <td>total_bedrooms</td>\n",
       "      <td>double</td>\n",
       "    </tr>\n",
       "    <tr>\n",
       "      <th>5</th>\n",
       "      <td>population</td>\n",
       "      <td>double</td>\n",
       "    </tr>\n",
       "    <tr>\n",
       "      <th>6</th>\n",
       "      <td>households</td>\n",
       "      <td>double</td>\n",
       "    </tr>\n",
       "    <tr>\n",
       "      <th>7</th>\n",
       "      <td>median_income</td>\n",
       "      <td>double</td>\n",
       "    </tr>\n",
       "    <tr>\n",
       "      <th>8</th>\n",
       "      <td>median_house_value</td>\n",
       "      <td>double</td>\n",
       "    </tr>\n",
       "    <tr>\n",
       "      <th>9</th>\n",
       "      <td>ocean_proximity</td>\n",
       "      <td>string</td>\n",
       "    </tr>\n",
       "  </tbody>\n",
       "</table>\n",
       "</div>"
      ],
      "text/plain": [
       "               column    type\n",
       "0           longitude  double\n",
       "1            latitude  double\n",
       "2  housing_median_age  double\n",
       "3         total_rooms  double\n",
       "4      total_bedrooms  double\n",
       "5          population  double\n",
       "6          households  double\n",
       "7       median_income  double\n",
       "8  median_house_value  double\n",
       "9     ocean_proximity  string"
      ]
     },
     "execution_count": 5,
     "metadata": {},
     "output_type": "execute_result"
    }
   ],
   "source": [
    "pd.DataFrame(df.dtypes, columns=['column', 'type'])"
   ]
  },
  {
   "cell_type": "code",
   "execution_count": 6,
   "id": "df92e3ec",
   "metadata": {
    "id": "df92e3ec"
   },
   "outputs": [
    {
     "name": "stdout",
     "output_type": "stream",
     "text": [
      "longitude: 0\n",
      "latitude: 0\n",
      "housing_median_age: 0\n",
      "total_rooms: 0\n",
      "total_bedrooms: 207\n",
      "population: 0\n",
      "households: 0\n",
      "median_income: 0\n",
      "median_house_value: 0\n",
      "ocean_proximity: 0\n"
     ]
    }
   ],
   "source": [
    "# разберём схему\n",
    "num_cols = [f.name for f in df.schema.fields if isinstance(f.dataType, T.NumericType)]\n",
    "str_cols = [f.name for f in df.schema.fields if isinstance(f.dataType, T.StringType)]\n",
    "\n",
    "for c in num_cols:\n",
    "    m = df.filter(F.isnan(F.col(c)) | F.col(c).isNull()).count()\n",
    "    print(f\"{c}: {m}\")\n",
    "\n",
    "for c in str_cols:\n",
    "    m = df.filter(F.col(c).isNull() | (F.trim(F.col(c))=='') | (F.lower(F.col(c))=='nan')).count()\n",
    "    print(f\"{c}: {m}\")"
   ]
  },
  {
   "cell_type": "markdown",
   "id": "e77397b0",
   "metadata": {},
   "source": [
    "### Вывод по этапу подготовки данных\n",
    "\n",
    "На этапе подготовки данных была выполнена полная предобработка исходного датасета о жилье в Калифорнии:\n",
    "\n",
    "* Инициализирована локальная Spark-сессия.\n",
    "* Датасет успешно считан, типы данных автоматически определены: все числовые признаки интерпретированы как `double`, а категориальный признак `ocean_proximity` — как `string`.\n",
    "* Проведён анализ на пропущенные значения: были обнаружены пропуски только в колонке `total_bedrooms` (207 значений)."
   ]
  },
  {
   "cell_type": "markdown",
   "id": "9f0a82f3",
   "metadata": {
    "id": "9f0a82f3"
   },
   "source": [
    "# Обучение моделей"
   ]
  },
  {
   "cell_type": "code",
   "execution_count": 7,
   "id": "bddb08c4",
   "metadata": {
    "id": "bddb08c4"
   },
   "outputs": [
    {
     "name": "stderr",
     "output_type": "stream",
     "text": [
      "25/09/15 16:45:33 WARN InstanceBuilder: Failed to load implementation from:dev.ludovic.netlib.blas.JNIBLAS\n",
      "25/09/15 16:45:33 WARN InstanceBuilder: Failed to load implementation from:dev.ludovic.netlib.lapack.JNILAPACK\n",
      "25/09/15 16:45:34 WARN SparkStringUtils: Truncated the string representation of a plan since it was too large. This behavior can be adjusted by setting 'spark.sql.debug.maxToStringFields'.\n"
     ]
    },
    {
     "name": "stdout",
     "output_type": "stream",
     "text": [
      "Модель А — только числовые:\n",
      "  RMSE: 71782.8605\n",
      "  MAE: 51787.9203\n",
      "  R2: 0.6276\n",
      "\n",
      "Модель B — все признаки (числовые + OHE):\n",
      "  RMSE: 70781.1878\n",
      "  MAE: 50855.1061\n",
      "  R2: 0.6379\n"
     ]
    }
   ],
   "source": [
    "target_col = \"median_house_value\"\n",
    "num_cols = [\n",
    "    \"longitude\",\"latitude\",\"housing_median_age\",\"total_rooms\",\n",
    "    \"total_bedrooms\",\"population\",\"households\",\"median_income\"\n",
    "]\n",
    "cat_col = \"ocean_proximity\"\n",
    "\n",
    "train_df, test_df = df.randomSplit([0.8, 0.2], seed=42)\n",
    "\n",
    "def eval_regression(pred_df, label=target_col, pred_col=\"prediction\"):\n",
    "    out = {}\n",
    "    for m in [\"rmse\", \"mae\", \"r2\"]:\n",
    "        ev = RegressionEvaluator(metricName=m, labelCol=label, predictionCol=pred_col)\n",
    "        out[m.upper()] = ev.evaluate(pred_df)\n",
    "    return out\n",
    "\n",
    "# A. ТОЛЬКО ЧИСЛОВЫЕ ПРИЗНАКИ (baseline)\n",
    "imputer_num = Imputer(\n",
    "    inputCols=[\"total_bedrooms\"],\n",
    "    outputCols=[\"total_bedrooms\"],\n",
    "    strategy=\"mean\"\n",
    ")\n",
    "\n",
    "assembler_num = VectorAssembler(\n",
    "    inputCols=num_cols,\n",
    "    outputCol=\"features_num\",\n",
    "    handleInvalid=\"skip\"\n",
    ")\n",
    "\n",
    "lr_num = LinearRegression(\n",
    "    featuresCol=\"features_num\",\n",
    "    labelCol=target_col,\n",
    "    regParam=0.1,\n",
    "    elasticNetParam=0.0\n",
    ")\n",
    "\n",
    "pipe_num = Pipeline(stages=[imputer_num, assembler_num, lr_num])\n",
    "model_num = pipe_num.fit(train_df)\n",
    "pred_num  = model_num.transform(test_df)\n",
    "metrics_num = eval_regression(pred_num)\n",
    "\n",
    "# B. ВСЕ ПРИЗНАКИ (числовые + OHE для категории)\n",
    "imputer = Imputer(\n",
    "    inputCols=[\"total_bedrooms\"],\n",
    "    outputCols=[\"total_bedrooms_imputed\"],\n",
    "    strategy=\"mean\"\n",
    ")\n",
    "\n",
    "num_cols_model = [c if c != \"total_bedrooms\" else \"total_bedrooms_imputed\" for c in num_cols]\n",
    "\n",
    "indexer = StringIndexer(\n",
    "    inputCol=cat_col, outputCol=f\"{cat_col}_idx\", handleInvalid=\"keep\"\n",
    ")\n",
    "encoder = OneHotEncoder(\n",
    "    inputCol=f\"{cat_col}_idx\", outputCol=f\"{cat_col}_ohe\", dropLast=False\n",
    ")\n",
    "\n",
    "assembler_all = VectorAssembler(\n",
    "    inputCols=num_cols_model + [f\"{cat_col}_ohe\"],\n",
    "    outputCol=\"features_all\",\n",
    "    handleInvalid=\"skip\"\n",
    ")\n",
    "\n",
    "lr_all = LinearRegression(\n",
    "    featuresCol=\"features_all\",\n",
    "    labelCol=target_col,\n",
    "    regParam=0.1,\n",
    "    elasticNetParam=0.0\n",
    ")\n",
    "\n",
    "pipe_all = Pipeline(stages=[imputer, indexer, encoder, assembler_all, lr_all])\n",
    "model_all = pipe_all.fit(train_df)\n",
    "pred_all  = model_all.transform(test_df)\n",
    "metrics_all = eval_regression(pred_all)\n",
    "\n",
    "print(\"Модель А — только числовые:\")\n",
    "for k, v in metrics_num.items():\n",
    "    print(f\"  {k}: {v:.4f}\")\n",
    "\n",
    "print(\"\\nМодель B — все признаки (числовые + OHE):\")\n",
    "for k, v in metrics_all.items():\n",
    "    print(f\"  {k}: {v:.4f}\")"
   ]
  },
  {
   "cell_type": "markdown",
   "id": "9403e7af",
   "metadata": {},
   "source": [
    "### Вывод по этапу обучения моделей\n",
    "\n",
    "На этапе обучения были построены две модели линейной регрессии с использованием регуляризации L2 (ридж-регрессии):\n",
    "\n",
    "1. **Модель на полном наборе признаков**, включая категориальный признак `ocean_proximity`, представленный в виде one-hot вектора:\n",
    "\n",
    "   * Использован `VectorAssembler` для объединения всех признаков в единый вектор признаков `features_all`.\n",
    "   * Обучена модель `LinearRegression` с параметрами `regParam=0.1` и `elasticNetParam=0.0`, что соответствует L2-регуляризации.\n",
    "   * Полученные метрики:\n",
    "\n",
    "     * **RMSE**: 70781.1954\n",
    "     * **MAE**: 50855.0330\n",
    "     * **R²**: 0.6379\n",
    "\n",
    "2. **Модель только на числовых признаках**, без использования категориальной информации:\n",
    "\n",
    "   * Признаки собраны в вектор `features_num`.\n",
    "   * Применена та же модель линейной регрессии с L2-регуляризацией.\n",
    "   * Полученные метрики:\n",
    "\n",
    "     * **RMSE**: 71782.8546\n",
    "     * **MAE**: 51787.8336\n",
    "     * **R²**: 0.6379\n",
    "\n",
    "**Выводы**:\n",
    "\n",
    "* Добавление категориального признака `ocean_proximity` (через one-hot encoding) дало небольшой прирост качества модели.\n",
    "* Метрики обеих моделей достаточно близки, что говорит о хорошей информативности числовых признаков.\n",
    "* Значение R² ≈ 0.63 указывает, что модель объясняет около 63% дисперсии в медианной стоимости жилья — это вполне приемлемый результат для простой линейной модели."
   ]
  },
  {
   "cell_type": "markdown",
   "id": "757fd103",
   "metadata": {
    "id": "757fd103"
   },
   "source": [
    "# Анализ результатов"
   ]
  },
  {
   "cell_type": "markdown",
   "id": "4a8cc134",
   "metadata": {},
   "source": [
    "В ходе проекта была реализована задача предсказания медианной стоимости жилья в Калифорнии на основе различных характеристик жилых массивов. Для решения задачи использовалась модель линейной регрессии с L2-регуляризацией (ридж-регрессия), обученная на двух вариантах датасета: с полным набором признаков (включая категориальный признак `ocean_proximity`, представленный в виде one-hot вектора) и только с числовыми признаками.\n",
    "\n",
    "Сравнение моделей показало, что включение категориального признака незначительно улучшило качество предсказаний: значение метрик RMSE и MAE уменьшилось, а R² немного вырос с 0.62 до 0.63. Это подтверждает, что даже один категориальный признак может внести дополнительную полезную информацию, особенно если он хорошо коррелирует с целевой переменной (в данном случае — с ценой жилья).\n",
    "\n",
    "При этом обе модели показывают достаточно адекватные результаты:\n",
    "\n",
    "* Средняя абсолютная ошибка составляет примерно 50–51 тысяч, что является реалистичным уровнем точности для цен на жильё.\n",
    "* Коэффициент детерминации R² около 0.63 указывает, что модели объясняют существенную часть вариации в стоимости жилья."
   ]
  },
  {
   "cell_type": "markdown",
   "id": "adfd1d4d-7086-4e11-8b17-346935d0568e",
   "metadata": {},
   "source": [
    "## Ссылка на проект\n",
    "[Репозиторий на GitHub](https://github.com/ArthurZava/Big-Data)"
   ]
  }
 ],
 "metadata": {
  "ExecuteTimeLog": [
   {
    "duration": 16019,
    "start_time": "2025-07-18T22:16:58.148Z"
   },
   {
    "duration": 8155,
    "start_time": "2025-07-18T22:18:29.307Z"
   },
   {
    "duration": 175,
    "start_time": "2025-07-18T22:20:02.897Z"
   },
   {
    "duration": 49,
    "start_time": "2025-07-18T22:20:24.348Z"
   },
   {
    "duration": 8,
    "start_time": "2025-07-18T22:23:45.590Z"
   },
   {
    "duration": 5138,
    "start_time": "2025-07-18T22:23:48.809Z"
   },
   {
    "duration": 563,
    "start_time": "2025-07-18T22:24:10.595Z"
   },
   {
    "duration": 253,
    "start_time": "2025-07-18T22:25:14.135Z"
   },
   {
    "duration": 1695,
    "start_time": "2025-07-18T22:25:18.765Z"
   },
   {
    "duration": 3,
    "start_time": "2025-07-18T22:27:09.719Z"
   },
   {
    "duration": 4099,
    "start_time": "2025-07-18T22:27:22.066Z"
   },
   {
    "duration": 2064,
    "start_time": "2025-07-18T22:27:41.903Z"
   },
   {
    "duration": 3,
    "start_time": "2025-07-18T22:28:45.218Z"
   },
   {
    "duration": 4,
    "start_time": "2025-07-18T22:28:50.110Z"
   },
   {
    "duration": 3315,
    "start_time": "2025-07-18T22:28:53.271Z"
   },
   {
    "duration": 1642,
    "start_time": "2025-07-18T22:38:03.714Z"
   },
   {
    "duration": 1183,
    "start_time": "2025-07-18T22:38:08.381Z"
   },
   {
    "duration": 2100,
    "start_time": "2025-07-18T22:38:29.692Z"
   },
   {
    "duration": 92,
    "start_time": "2025-07-18T22:45:16.755Z"
   }
  ],
  "colab": {
   "name": "PySparkSprint.ipynb",
   "provenance": []
  },
  "kernelspec": {
   "display_name": "Python 3 (ipykernel)",
   "language": "python",
   "name": "python3"
  },
  "language_info": {
   "codemirror_mode": {
    "name": "ipython",
    "version": 3
   },
   "file_extension": ".py",
   "mimetype": "text/x-python",
   "name": "python",
   "nbconvert_exporter": "python",
   "pygments_lexer": "ipython3",
   "version": "3.12.1"
  },
  "toc": {
   "base_numbering": 1,
   "nav_menu": {},
   "number_sections": true,
   "sideBar": true,
   "skip_h1_title": true,
   "title_cell": "Table of Contents",
   "title_sidebar": "Contents",
   "toc_cell": false,
   "toc_position": {},
   "toc_section_display": true,
   "toc_window_display": false
  }
 },
 "nbformat": 4,
 "nbformat_minor": 5
}
